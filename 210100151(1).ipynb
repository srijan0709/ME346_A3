{
 "cells": [
  {
   "cell_type": "code",
   "execution_count": 1,
   "id": "08126eb4-d36c-433c-8cd2-b77c0e7db347",
   "metadata": {},
   "outputs": [],
   "source": [
    "# import modules\n",
    "import os, sys\n",
    "import numpy as np\n",
    "import math\n"
   ]
  },
  {
   "cell_type": "code",
   "execution_count": 2,
   "id": "f3aaf799-82ef-4428-ab5f-e3d5ce3d9cd4",
   "metadata": {},
   "outputs": [],
   "source": [
    "# define problem parameters\n",
    "Length = 1\n",
    "Time = 20\n",
    "Qo=10000\n",
    "conductivity = 10\n",
    "alpha = 0.05\n",
    "T_initial = 0\n",
    "T_left = 100\n",
    "TimeConst=20\n"
   ]
  },
  {
   "cell_type": "code",
   "execution_count": 3,
   "id": "4ca9bb74-5223-48ab-b991-c74a529ec8ed",
   "metadata": {},
   "outputs": [],
   "source": [
    "# define numerialc parameters\n",
    "num_x = 31\n",
    "num_t = 10001"
   ]
  },
  {
   "cell_type": "code",
   "execution_count": 4,
   "id": "17b6b28b-1027-462c-8a43-c625bdfb8cff",
   "metadata": {},
   "outputs": [],
   "source": [
    "# get delta-time and delta-x\n",
    "dt = Time / (num_t-1)\n",
    "dx = Length / (num_x - 1)\n",
    "\n",
    "# initialize memory to store T profile for each (x,t) and intialize to intial condition\n",
    "T = T_initial * np.ones([num_x, num_t])\n",
    "\n"
   ]
  },
  {
   "cell_type": "code",
   "execution_count": 5,
   "id": "d27c177c-0306-456b-8168-0caf979737fa",
   "metadata": {},
   "outputs": [],
   "source": [
    "# solve the eqn for each time-step now\n",
    "for t in range(1,num_t):\n",
    "    for i in range(1,num_x-1):\n",
    "        T[i,t] = T[i,t-1] + (alpha*dt/(dx*dx)) * (T[i-1,t-1] + T[i+1,t-1] - 2*T[i,t-1]) -alpha*dt*(Qo*math.sin(3.14*i*dx/Length)*math.exp(-t*dt/TimeConst))/conductivity\n",
    "    \n",
    "    # bdry conditions\n",
    "    T[0,t] = T_left\n",
    "    T[num_x-1,t] =  Qo*math.sin(3.14*dx/Length)*math.exp(-num_t/TimeConst) + T[num_x-2,t] "
   ]
  },
  {
   "cell_type": "code",
   "execution_count": 6,
   "id": "3a98c820-7e59-453f-8e72-03acbf9b12c0",
   "metadata": {},
   "outputs": [
    {
     "data": {
      "text/plain": [
       "Text(0, 0.5, 'x')"
      ]
     },
     "execution_count": 6,
     "metadata": {},
     "output_type": "execute_result"
    },
    {
     "data": {
      "image/png": "[encoded data removed]",
      "text/plain": [
       "<Figure size 600x200 with 2 Axes>"
      ]
     },
     "metadata": {},
     "output_type": "display_data"
    }
   ],
   "source": [
    "# plot the results now\n",
    "from matplotlib import pyplot as plt\n",
    "from matplotlib.pyplot import pcolor\n",
    "fig, axs = plt.subplots(1, 1, figsize=(6,2))\n",
    "c = axs.pcolor(T[:,:])\n",
    "fig.colorbar(c, ax=axs)\n",
    "\n",
    "plt.xlabel('Time-step')\n",
    "plt.ylabel('x')\n",
    "\n",
    "#Plot for Qo = 1 , num_x =11 , num_t= 101"
   ]
  },
  {
   "cell_type": "code",
   "execution_count": null,
   "id": "c8b8a304",
   "metadata": {},
   "outputs": [],
   "source": [
    "\n"
   ]
  },
  {
   "cell_type": "code",
   "execution_count": null,
   "id": "b32ade59-eb3a-4cbb-acc1-7b812a9f4ac7",
   "metadata": {},
   "outputs": [],
   "source": []
  }
 ],
 "metadata": {
  "kernelspec": {
   "display_name": "Python 3 (ipykernel)",
   "language": "python",
   "name": "python3"
  },
  "language_info": {
   "codemirror_mode": {
    "name": "ipython",
    "version": 3
   },
   "file_extension": ".py",
   "mimetype": "text/x-python",
   "name": "python",
   "nbconvert_exporter": "python",
   "pygments_lexer": "ipython3",
   "version": "3.11.3"
  }
 },
 "nbformat": 4,
 "nbformat_minor": 5
}
